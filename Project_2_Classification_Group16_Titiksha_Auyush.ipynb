{
 "cells": [
  {
   "cell_type": "code",
   "execution_count": null,
   "metadata": {},
   "outputs": [],
   "source": [
    "import pandas as pd\n",
    "df = pd.read_table('Twitter-Absolute-Sigma-500.data',sep=',',header=None)"
   ]
  },
  {
   "cell_type": "code",
   "execution_count": null,
   "metadata": {},
   "outputs": [],
   "source": [
    "df.head()"
   ]
  },
  {
   "cell_type": "code",
   "execution_count": null,
   "metadata": {},
   "outputs": [],
   "source": [
    "df[77].unique()"
   ]
  },
  {
   "cell_type": "code",
   "execution_count": null,
   "metadata": {},
   "outputs": [],
   "source": [
    "df.info()"
   ]
  },
  {
   "cell_type": "code",
   "execution_count": null,
   "metadata": {},
   "outputs": [],
   "source": [
    "df[77].value_counts()"
   ]
  },
  {
   "cell_type": "code",
   "execution_count": null,
   "metadata": {},
   "outputs": [],
   "source": [
    "df.shape"
   ]
  },
  {
   "cell_type": "code",
   "execution_count": null,
   "metadata": {},
   "outputs": [],
   "source": [
    "df_1 = df.sample(frac=0.1,random_state=5)"
   ]
  },
  {
   "cell_type": "code",
   "execution_count": null,
   "metadata": {},
   "outputs": [],
   "source": [
    "df_1"
   ]
  },
  {
   "cell_type": "code",
   "execution_count": null,
   "metadata": {},
   "outputs": [],
   "source": [
    "X = df_1.iloc[:,:77]\n",
    "y = df_1[77]"
   ]
  },
  {
   "cell_type": "code",
   "execution_count": null,
   "metadata": {},
   "outputs": [],
   "source": [
    "X"
   ]
  },
  {
   "cell_type": "code",
   "execution_count": null,
   "metadata": {},
   "outputs": [],
   "source": [
    "from sklearn.preprocessing import StandardScaler\n",
    "from sklearn.model_selection import train_test_split\n",
    "from sklearn.neighbors import KNeighborsRegressor\n",
    "from sklearn.dummy import DummyClassifier\n",
    "import numpy as np\n",
    "from sklearn.neighbors import KNeighborsClassifier\n",
    "from sklearn.model_selection import GridSearchCV\n",
    "from sklearn.metrics import roc_auc_score\n",
    "from matplotlib import pyplot as plt\n",
    "from sklearn import linear_model, datasets\n",
    "import mglearn\n",
    "from sklearn import svm, grid_search\n",
    "from sklearn.tree import DecisionTreeClassifier"
   ]
  },
  {
   "cell_type": "code",
   "execution_count": null,
   "metadata": {},
   "outputs": [],
   "source": [
    "X_train_org, X_test_org, y_train, y_test = train_test_split(X,y,random_state=5)\n",
    "sc = StandardScaler()\n",
    "X_train = sc.fit_transform(X_train_org)\n",
    "X_test = sc.transform(X_test_org)\n",
    "\n",
    "print(X_train.shape,X_test.shape,y_train.shape,y_test.shape)"
   ]
  },
  {
   "cell_type": "code",
   "execution_count": null,
   "metadata": {},
   "outputs": [],
   "source": [
    "dummy_majority = DummyClassifier(strategy='most_frequent').fit(X_train, y_train)\n",
    "\n",
    "pred_most_frequent = dummy_majority.predict(X_test)\n",
    "\n",
    "print(\"Unique predicted labels: {}\".format(np.unique(pred_most_frequent)))\n",
    "print(\"Test score: {:.2f}\".format(dummy_majority.score(X_test, y_test)))"
   ]
  },
  {
   "cell_type": "code",
   "execution_count": null,
   "metadata": {},
   "outputs": [],
   "source": [
    "knn = KNeighborsClassifier()\n",
    "#param_grid = {'n_neighbors':[1, 5, 10, 15, 20]}\n",
    "param_grid = {'n_neighbors':[1, 5, 10, 15, 20, 25, 30, 35, 40, 45]}\n",
    "scoring = {'AUC': 'roc_auc', 'Recall': 'recall', 'Precision': 'precision'}\n",
    "\n",
    "grid_knn = GridSearchCV(knn, param_grid=param_grid, cv = 5, scoring=scoring, refit='AUC')\n",
    "grid_knn.fit(X_train, y_train)\n",
    "grid_knn.score(X_train, y_train)"
   ]
  },
  {
   "cell_type": "code",
   "execution_count": null,
   "metadata": {},
   "outputs": [],
   "source": [
    "file = grid_knn.cv_results_\n",
    "file"
   ]
  },
  {
   "cell_type": "code",
   "execution_count": null,
   "metadata": {},
   "outputs": [],
   "source": [
    "grid_knn.score(X_test, y_test)"
   ]
  },
  {
   "cell_type": "code",
   "execution_count": null,
   "metadata": {},
   "outputs": [],
   "source": [
    "grid_knn.best_estimator_"
   ]
  },
  {
   "cell_type": "code",
   "execution_count": null,
   "metadata": {},
   "outputs": [],
   "source": [
    "y_knn_predict = grid_knn.predict(X_test)\n",
    "y_knn_train_predict = grid_knn.predict(X_train)"
   ]
  },
  {
   "cell_type": "code",
   "execution_count": null,
   "metadata": {},
   "outputs": [],
   "source": [
    "print('Train roc_auc_score: %.2f'%roc_auc_score(y_knn_train_predict, y_train))\n",
    "print('Test roc_auc_score: %.2f '%roc_auc_score(y_knn_predict, y_test))"
   ]
  },
  {
   "cell_type": "code",
   "execution_count": null,
   "metadata": {},
   "outputs": [],
   "source": [
    "Fit = ['Model', 'Best Parameter', 'ROC_AUC Train Score', 'ROC_AUC Test Score']\n",
    "knn_report = [['KNN', grid_knn.best_params_, roc_auc_score(y_knn_train_predict, y_train), roc_auc_score(y_knn_predict, y_test)]]\n",
    "pd.DataFrame(knn_report, columns=Fit)"
   ]
  },
  {
   "cell_type": "code",
   "execution_count": null,
   "metadata": {},
   "outputs": [],
   "source": [
    "### Logistic Regression"
   ]
  },
  {
   "cell_type": "code",
   "execution_count": null,
   "metadata": {},
   "outputs": [],
   "source": [
    "logistic = linear_model.LogisticRegression()\n",
    "\n",
    "scoring = {'AUC': 'roc_auc', 'Recall': 'recall', 'Precision': 'precision'}\n",
    "penalty = ['l1', 'l2']\n",
    "c_range = [0.001, 0.01, 0.1, 1, 10, 100, 1000]\n",
    "hyperparameters = dict(C=c_range, penalty=penalty)\n",
    "\n",
    "grid_lr = GridSearchCV(logistic, cv=5, verbose=0, scoring=scoring, param_grid=hyperparameters, refit='AUC')\n",
    "grid_lr.fit(X_train, y_train)\n",
    "grid_lr.score(X_train, y_train)"
   ]
  },
  {
   "cell_type": "code",
   "execution_count": null,
   "metadata": {},
   "outputs": [],
   "source": [
    "grid_lr.score(X_test, y_test)"
   ]
  },
  {
   "cell_type": "code",
   "execution_count": null,
   "metadata": {},
   "outputs": [],
   "source": [
    "grid_lr.best_params_"
   ]
  },
  {
   "cell_type": "code",
   "execution_count": null,
   "metadata": {},
   "outputs": [],
   "source": [
    "grid_lr.best_estimator_"
   ]
  },
  {
   "cell_type": "code",
   "execution_count": null,
   "metadata": {},
   "outputs": [],
   "source": [
    "y_predict = grid_lr.predict(X_test)\n",
    "y_train_predict = grid_lr.predict(X_train)"
   ]
  },
  {
   "cell_type": "code",
   "execution_count": null,
   "metadata": {},
   "outputs": [],
   "source": [
    "print('Train roc_auc_score: %.2f'%roc_auc_score(y_train_predict, y_train))\n",
    "print('Test roc_auc_score: %.2f '%roc_auc_score(y_predict, y_test))"
   ]
  },
  {
   "cell_type": "code",
   "execution_count": null,
   "metadata": {},
   "outputs": [],
   "source": [
    "result = grid_lr.cv_results_\n",
    "pd.DataFrame(result)"
   ]
  },
  {
   "cell_type": "code",
   "execution_count": null,
   "metadata": {},
   "outputs": [],
   "source": [
    "logistic_report = [['Logistic Regression', grid_lr.best_params_, roc_auc_score(y_train_predict, y_train), roc_auc_score(y_predict, y_test)]]\n",
    "pd.DataFrame(logistic_report, columns=Fit)"
   ]
  },
  {
   "cell_type": "code",
   "execution_count": null,
   "metadata": {},
   "outputs": [],
   "source": [
    "### Linear SVC"
   ]
  },
  {
   "cell_type": "code",
   "execution_count": null,
   "metadata": {},
   "outputs": [],
   "source": [
    "scoring = {'AUC': 'roc_auc', 'Recall': 'recall', 'Precision': 'precision'}\n",
    "Cs = [0.001, 0.01, 0.1, 1, 10]\n",
    "#gammas = [0.001, 0.01, 0.1, 1]\n",
    "param_grid = {'C': Cs}\n",
    "grid_linear_svc = GridSearchCV(svm.SVC(), param_grid, cv=5, refit='AUC', scoring=scoring)\n",
    "grid_linear_svc.fit(X_train, y_train)\n",
    "grid_linear_svc.score(X_train, y_train)"
   ]
  },
  {
   "cell_type": "code",
   "execution_count": null,
   "metadata": {},
   "outputs": [],
   "source": [
    "grid_linear_svc.score(X_test, y_test)"
   ]
  },
  {
   "cell_type": "code",
   "execution_count": null,
   "metadata": {},
   "outputs": [],
   "source": [
    "grid_linear_svc.best_params_"
   ]
  },
  {
   "cell_type": "code",
   "execution_count": null,
   "metadata": {},
   "outputs": [],
   "source": [
    "grid_linear_svc.best_estimator_"
   ]
  },
  {
   "cell_type": "code",
   "execution_count": null,
   "metadata": {},
   "outputs": [],
   "source": [
    "y_linear_svc_predict = grid_linear_svc.predict(X_test)\n",
    "y_linear_svc_train_predict = grid_linear_svc.predict(X_train)\n",
    "\n",
    "print('Train roc_auc_score: %.2f'%roc_auc_score(y_linear_svc_train_predict, y_train))\n",
    "print('Test roc_auc_score: %.2f '%roc_auc_score(y_linear_svc_predict, y_test))"
   ]
  },
  {
   "cell_type": "code",
   "execution_count": null,
   "metadata": {},
   "outputs": [],
   "source": [
    "result = grid_linear_svc.cv_results_\n",
    "result"
   ]
  },
  {
   "cell_type": "code",
   "execution_count": null,
   "metadata": {},
   "outputs": [],
   "source": [
    "linear_svc_report = [['Linear SVC', grid_linear_svc.best_params_, roc_auc_score(y_linear_svc_train_predict, y_train), roc_auc_score(y_linear_svc_predict, y_test)]]\n",
    "pd.DataFrame(linear_svc_report, columns=Fit)"
   ]
  },
  {
   "cell_type": "code",
   "execution_count": null,
   "metadata": {},
   "outputs": [],
   "source": [
    "### Kernelized SVM"
   ]
  },
  {
   "cell_type": "code",
   "execution_count": null,
   "metadata": {},
   "outputs": [],
   "source": [
    "scoring = {'AUC': 'roc_auc', 'Recall': 'recall', 'Precision': 'precision'}\n",
    "Cs = [0.001, 0.01, 0.1, 1, 10]\n",
    "gammas = [0.001, 0.01, 0.1, 1]\n",
    "param_grid = {'C': Cs, 'gamma' : gammas}\n",
    "grid_svc = GridSearchCV(svm.SVC(kernel='rbf'), param_grid, cv=5, refit='AUC', scoring=scoring)\n",
    "grid_svc.fit(X_train, y_train)\n",
    "grid_svc.score(X_train, y_train) "
   ]
  },
  {
   "cell_type": "code",
   "execution_count": null,
   "metadata": {},
   "outputs": [],
   "source": [
    "grid_svc.score(X_test, y_test)"
   ]
  },
  {
   "cell_type": "code",
   "execution_count": null,
   "metadata": {},
   "outputs": [],
   "source": [
    "grid_svc.best_params_"
   ]
  },
  {
   "cell_type": "code",
   "execution_count": null,
   "metadata": {},
   "outputs": [],
   "source": [
    "grid_svc.best_estimator_"
   ]
  },
  {
   "cell_type": "code",
   "execution_count": null,
   "metadata": {},
   "outputs": [],
   "source": [
    "y_svc_predict = grid_svc.predict(X_test)\n",
    "y_svc_train_predict = grid_svc.predict(X_train)\n",
    "\n",
    "print('Train roc_auc_score: %.2f'%roc_auc_score(y_svc_train_predict, y_train))\n",
    "print('Test roc_auc_score: %.2f '%roc_auc_score(y_svc_predict, y_test))"
   ]
  },
  {
   "cell_type": "code",
   "execution_count": null,
   "metadata": {},
   "outputs": [],
   "source": [
    "result = grid_svc.cv_results_\n",
    "pd.DataFrame(result)"
   ]
  },
  {
   "cell_type": "code",
   "execution_count": null,
   "metadata": {},
   "outputs": [],
   "source": [
    "kernalised_svc_report = [['Kernalised SVC', grid_svc.best_params_, roc_auc_score(y_svc_train_predict, y_train), roc_auc_score(y_svc_predict, y_test)]\n",
    "pd.DataFrame(kernalised_svc_report, columns=Fit)"
   ]
  },
  {
   "cell_type": "code",
   "execution_count": null,
   "metadata": {},
   "outputs": [],
   "source": [
    "### Decision Tree"
   ]
  },
  {
   "cell_type": "code",
   "execution_count": null,
   "metadata": {},
   "outputs": [],
   "source": [
    "scoring = {'AUC': 'roc_auc', 'Recall': 'recall', 'Precision': 'precision'}\n",
    "param_grid = {'max_depth':[1,2,3,4,5]}\n",
    "dtree_grid = GridSearchCV(DecisionTreeClassifier(random_state=5),param_grid=param_grid,cv=5,return_train_score=True, refit='AUC', scoring=scoring)\n",
    "dtree_grid.fit(X_train,y_train)\n",
    "dtree_grid.score(X_train,y_train)"
   ]
  },
  {
   "cell_type": "code",
   "execution_count": null,
   "metadata": {},
   "outputs": [],
   "source": [
    "dtree_grid.score(X_test,y_test)"
   ]
  },
  {
   "cell_type": "code",
   "execution_count": null,
   "metadata": {},
   "outputs": [],
   "source": [
    "pd.DataFrame(dtree_grid.cv_results_)"
   ]
  },
  {
   "cell_type": "code",
   "execution_count": null,
   "metadata": {},
   "outputs": [],
   "source": [
    "dtree_grid.best_params_"
   ]
  },
  {
   "cell_type": "code",
   "execution_count": null,
   "metadata": {},
   "outputs": [],
   "source": [
    "dtree_grid.best_estimator_"
   ]
  },
  {
   "cell_type": "code",
   "execution_count": null,
   "metadata": {},
   "outputs": [],
   "source": [
    "y_dtree_predict = dtree_grid.predict(X_test)\n",
    "y_dtree_train_predict = dtree_grid.predict(X_train)\n",
    "\n",
    "print('Train roc_auc_score: %.2f'%roc_auc_score(y_dtree_train_predict, y_train))\n",
    "print('Test roc_auc_score: %.2f '%roc_auc_score(y_dtree_predict, y_test))"
   ]
  },
  {
   "cell_type": "code",
   "execution_count": null,
   "metadata": {},
   "outputs": [],
   "source": [
    "dtree=DecisionTreeClassifier(max_depth=4)\n",
    "dtree.fit(X_train,y_train)"
   ]
  },
  {
   "cell_type": "code",
   "execution_count": null,
   "metadata": {},
   "outputs": [],
   "source": [
    "%matplotlib inline\n",
    "def plot_feature_importances(model):\n",
    "    n_features = X_train.data.shape[1]\n",
    "    plt.barh(range(n_features), model.feature_importances_, align='center')\n",
    "    plt.yticks(np.arange(0,n_features,3))\n",
    "    plt.xlabel(\"Feature importance\")\n",
    "    plt.ylabel(\"Feature\")\n",
    "    plt.ylim(-1, n_features)\n",
    "plt.figure(figsize=(10,5))\n",
    "plot_feature_importances(dtree)"
   ]
  },
  {
   "cell_type": "code",
   "execution_count": null,
   "metadata": {},
   "outputs": [],
   "source": [
    "x=X_train[:,[33,34]]\n",
    "dtree1=DecisionTreeClassifier(max_depth=3)\n",
    "dtree1.fit(x,y_train)\n",
    "mglearn.plots.plot_2d_separator(dtree1, x, fill=True, eps=0.5, alpha=.4)\n",
    "mglearn.discrete_scatter(x[:, 0], x[:, 1], y_train)"
   ]
  },
  {
   "cell_type": "code",
   "execution_count": null,
   "metadata": {},
   "outputs": [],
   "source": [
    "dtree_report = [['Decision Tree', dtree_grid.best_params_, roc_auc_score(y_dtree_train_predict, y_train), roc_auc_score(y_dtree_predict, y_test)]]\n",
    "pd.DataFrame(dtree_report, columns=Fit)"
   ]
  },
  {
   "cell_type": "code",
   "execution_count": null,
   "metadata": {},
   "outputs": [],
   "source": [
    "Report = pd.DataFrame(knn_report+logistic_report+linear_svc_report+kernalised_svc_report+dtree_report, columns=Titles, index=range(1,6))\n",
    "Report"
   ]
  },
  {
   "cell_type": "code",
   "execution_count": null,
   "metadata": {},
   "outputs": [],
   "source": [
    "plt.plot(Report.iloc[:,0],Report.iloc[:,2],label='ROC Train Score')\n",
    "plt.plot(Report.iloc[:,0],Report.iloc[:,3],label='ROC Test Score')\n",
    "plt.legend()"
   ]
  },
  {
   "cell_type": "code",
   "execution_count": null,
   "metadata": {},
   "outputs": [],
   "source": [
    "### From the plot, the logistic regression is the model which gives us the best ROC test scores. \n",
    "### The parameters {'C': 0.1, 'penalty': 'l1'} found on the data set."
   ]
  },
  {
   "cell_type": "code",
   "execution_count": null,
   "metadata": {},
   "outputs": [],
   "source": [
    "all_X = df.iloc[:,:77]\n",
    "all_y = df[77]"
   ]
  },
  {
   "cell_type": "code",
   "execution_count": null,
   "metadata": {},
   "outputs": [],
   "source": [
    "all_X_train_org, all_X_test_org, all_y_train, all_y_test = train_test_split(all_X,all_y,random_state=5)\n",
    "sc = StandardScaler()\n",
    "all_X_train = sc.fit_transform(all_X_train_org)\n",
    "all_X_test = sc.transform(all_X_test_org)\n",
    "\n",
    "all_logistic = linear_model.LogisticRegression(C=0.1,penalty='l1')\n",
    "all_logistic.fit(all_X_train,all_y_train)"
   ]
  },
  {
   "cell_type": "code",
   "execution_count": null,
   "metadata": {},
   "outputs": [],
   "source": [
    "all_logistic.score(all_X_train,all_y_train)"
   ]
  },
  {
   "cell_type": "code",
   "execution_count": null,
   "metadata": {},
   "outputs": [],
   "source": [
    "from sklearn.model_selection import cross_val_score\n",
    "from sklearn.model_selection import KFold\n",
    "log = linear_model.LogisticRegression()\n",
    "fold = KFold(n_splits=5)"
   ]
  },
  {
   "cell_type": "code",
   "execution_count": null,
   "metadata": {},
   "outputs": [],
   "source": [
    "cv_train_score = cross_val_score(log, all_X_train,all_y_train, cv=fold)\n",
    "cv_test_score = cross_val_score(log, all_X_test,all_y_test, cv=fold)"
   ]
  },
  {
   "cell_type": "code",
   "execution_count": null,
   "metadata": {},
   "outputs": [],
   "source": [
    "print('Cross validation train score is : {0}\\nCross validation test score is : {1}'.format(round(cv_train_score.mean(),5), round(cv_test_score.mean(),5)))"
   ]
  }
 ],
 "metadata": {
  "kernelspec": {
   "display_name": "Python 3",
   "language": "python",
   "name": "python3"
  },
  "language_info": {
   "codemirror_mode": {
    "name": "ipython",
    "version": 3
   },
   "file_extension": ".py",
   "mimetype": "text/x-python",
   "name": "python",
   "nbconvert_exporter": "python",
   "pygments_lexer": "ipython3",
   "version": "3.6.5"
  }
 },
 "nbformat": 4,
 "nbformat_minor": 2
}
