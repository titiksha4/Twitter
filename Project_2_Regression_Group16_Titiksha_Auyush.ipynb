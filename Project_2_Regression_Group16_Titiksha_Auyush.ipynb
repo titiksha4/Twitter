{
 "cells": [
  {
   "cell_type": "markdown",
   "metadata": {},
   "source": [
    "### <font color='red'> Project 2 : Buzz Prediction on Twitter\n",
    "\n",
    "Project Description:\n",
    "- There are two different datasets for Regression and Classification tasks. Right-most column in both the datasets is a dependent variable i.e. buzz.\n",
    "- Data description files are also provided for both the datasets.\n",
    "- Deciding which dataset is for which task is part of the project.\n",
    "- Read data into Jupyter notebook, use pandas to import data into a data frame.\n",
    "- Preprocess data: Explore data, check for missing data and apply data scaling. Justify the type of scaling used.\n",
    "\n",
    "Regression Task:\n",
    "- Apply all the regression models you've learned so far. If your model has a scaling parameter(s) use Grid Search to find the best scaling parameter. Use plots and graphs to help you get a better glimpse of the results. \n",
    "- Then use cross-validation to find average training and testing score. \n",
    "- Your submission should have at least the following regression models: KNN regressor, linear regression, Ridge, Lasso, polynomial regression, SVM both simple and with kernels. \n",
    "- Finally, find the best regressor for this dataset and train your model on the entire dataset using the best parameters and predict buzz for the test_set.\n",
    "\n",
    "Classification Task:\n",
    "- Decide about a good evaluation strategy and justify your choice.\n",
    "- Find best parameters for the following classification models: KNN classification, Logistic Regression, Linear Support Vector Machine, Kernelized Support Vector Machine, Decision Tree. \n",
    "- Which model gives the best results?\n",
    "\n",
    "Deliverables:\n",
    "- Submit IPython notebook. Use markdown to provide inline comments for this project.\n",
    "- Rename notebook with your group number and submit only one notebook. Before submitting, make sure everything runs as expected. To check that, restart the kernel (in the menubar, select Kernel > Restart) and then run all cells (in the menubar, select Cell > Run All).\n",
    "- Visualization encouraged.\n",
    "\n",
    "Questions regarding the project:\n",
    "- We have created a discussion board under Projects folder on e-learning. Create threads over there and post your queries related to project there.\n",
    "- There is a high possibility that your classmate has also faced the same problem and knows the solution. So this is an effort to encourage collaborative learning, reducing mails for frequently asked queries and also making all the information available to everyone.\n",
    "- Please check existing threads for your query before creating a new one. It goes without saying that do not share your code or complete solutions there.\n",
    "- We will also answer queries there. We will not be answering any project related queries through the mail."
   ]
  },
  {
   "cell_type": "code",
   "execution_count": null,
   "metadata": {},
   "outputs": [],
   "source": [
    "import pandas as pd\n",
    "import numpy as np"
   ]
  },
  {
   "cell_type": "code",
   "execution_count": null,
   "metadata": {},
   "outputs": [],
   "source": [
    "df = pd.read_table('Twitter.data',sep=',',header=None)"
   ]
  },
  {
   "cell_type": "code",
   "execution_count": null,
   "metadata": {},
   "outputs": [],
   "source": [
    "df_1 = df.sample(frac=0.01,random_state=5).reset_index().iloc[:,1:]"
   ]
  },
  {
   "cell_type": "code",
   "execution_count": null,
   "metadata": {},
   "outputs": [],
   "source": [
    "df_1.head()"
   ]
  },
  {
   "cell_type": "code",
   "execution_count": null,
   "metadata": {},
   "outputs": [],
   "source": [
    "df_1.describe()"
   ]
  },
  {
   "cell_type": "code",
   "execution_count": null,
   "metadata": {},
   "outputs": [],
   "source": [
    "%matplotlib inline\n",
    "import matplotlib.pyplot as plt"
   ]
  },
  {
   "cell_type": "code",
   "execution_count": null,
   "metadata": {},
   "outputs": [],
   "source": [
    "plt.figure(1,figsize=[10,10])\n",
    "plt.plot(df_1[77],df_1[0],'o',label='Number of Created Discussions')\n",
    "plt.plot(df_1[77],df_1[28],'s',label='Number of Atomic Containers')\n",
    "plt.ylabel('Buzz')\n",
    "plt.legend(loc=2)\n",
    "plt.figure(2,figsize=[10,10])\n",
    "plt.plot(df_1[77],df_1[56],'o',label='Number of Authors')\n",
    "plt.plot(df_1[77],df_1[70],'s',label='Average Discussions Length')\n",
    "plt.ylabel('Buzz')\n",
    "plt.legend(loc=2)"
   ]
  },
  {
   "cell_type": "code",
   "execution_count": null,
   "metadata": {},
   "outputs": [],
   "source": [
    "### Scaling the data and train-test data"
   ]
  },
  {
   "cell_type": "code",
   "execution_count": null,
   "metadata": {},
   "outputs": [],
   "source": [
    "X = df_1.iloc[:,:77]\n",
    "y = df_1.iloc[:,77]"
   ]
  },
  {
   "cell_type": "code",
   "execution_count": null,
   "metadata": {},
   "outputs": [],
   "source": [
    "### KNeighborsRegressor"
   ]
  },
  {
   "cell_type": "code",
   "execution_count": null,
   "metadata": {},
   "outputs": [],
   "source": [
    "from sklearn.preprocessing import StandardScaler\n",
    "from sklearn.model_selection import train_test_split\n",
    "from sklearn.neighbors import KNeighborsRegressor"
   ]
  },
  {
   "cell_type": "code",
   "execution_count": null,
   "metadata": {},
   "outputs": [],
   "source": [
    "import warnings\n",
    "warnings.filterwarnings('ignore')\n",
    "X_train_org, X_test_org, y_train, y_test = train_test_split(X,y,random_state=6)\n",
    "sc = StandardScaler()\n",
    "X_train = sc.fit_transform(X_train_org)\n",
    "X_test = sc.transform(X_test_org)"
   ]
  },
  {
   "cell_type": "code",
   "execution_count": null,
   "metadata": {},
   "outputs": [],
   "source": [
    "from sklearn.model_selection import GridSearchCV"
   ]
  },
  {
   "cell_type": "code",
   "execution_count": null,
   "metadata": {},
   "outputs": [],
   "source": [
    "param_grid = {'n_neighbors':range(1,10)}\n",
    "grid_search = GridSearchCV(KNeighborsRegressor(),param_grid,cv=5,return_train_score=True)\n",
    "grid_search.fit(X_train, y_train)"
   ]
  },
  {
   "cell_type": "code",
   "execution_count": null,
   "metadata": {},
   "outputs": [],
   "source": [
    "neighbors = [dict['n_neighbors'] for dict in grid_search.cv_results_['params']]\n",
    "plt.figure(figsize=(10,5))\n",
    "plt.plot(neighbors,grid_search.cv_results_['mean_train_score'],label='Train Score')\n",
    "plt.plot(neighbors,grid_search.cv_results_['mean_test_score'],label='Test Score')\n",
    "plt.xlabel('Neighbors(K)')\n",
    "plt.ylabel('Average Score by Cross-Validation')\n",
    "plt.title('KNeighborsRegression')\n",
    "plt.legend()"
   ]
  },
  {
   "cell_type": "code",
   "execution_count": null,
   "metadata": {},
   "outputs": [],
   "source": [
    "knn_train_score = grid_search.score(X_train,y_train)\n",
    "knn_test_score = grid_search.score(X_test,y_test)"
   ]
  },
  {
   "cell_type": "code",
   "execution_count": null,
   "metadata": {},
   "outputs": [],
   "source": [
    "knn_report= [['KNeighborsRegressor',grid_search.best_params_,knn_train_score,knn_test_score]]\n",
    "Fit=['Model','Parameters','Train Score','Test Score']\n",
    "pd.DataFrame(knn_report,columns=Fit,index=[1])"
   ]
  },
  {
   "cell_type": "code",
   "execution_count": null,
   "metadata": {},
   "outputs": [],
   "source": [
    "### LinearRegression"
   ]
  },
  {
   "cell_type": "code",
   "execution_count": null,
   "metadata": {},
   "outputs": [],
   "source": [
    "from sklearn.linear_model import LinearRegression\n",
    "param_grid={'n_jobs':[-1]}\n",
    "lreg = GridSearchCV(LinearRegression(),param_grid=param_grid,cv=5,return_train_score=True)\n",
    "lreg.fit(X_train, y_train)\n",
    "lreg_train_score = round(lreg.score(X_train, y_train),6)\n",
    "lreg_test_score = round(lreg.score(X_test, y_test),6)"
   ]
  },
  {
   "cell_type": "code",
   "execution_count": null,
   "metadata": {},
   "outputs": [],
   "source": [
    "lreg_report = [['LinearRegression','',lreg_train_score,lreg_test_score]]\n",
    "pd.DataFrame(lreg_report,columns=Fit,index=[1])"
   ]
  },
  {
   "cell_type": "code",
   "execution_count": null,
   "metadata": {},
   "outputs": [],
   "source": [
    "### SGDRegressor"
   ]
  },
  {
   "cell_type": "code",
   "execution_count": null,
   "metadata": {},
   "outputs": [],
   "source": [
    "from sklearn.linear_model import SGDRegressor"
   ]
  },
  {
   "cell_type": "code",
   "execution_count": null,
   "metadata": {},
   "outputs": [],
   "source": [
    "param_grid={'n_iter':[10,100,1000,10000],'learning_rate':['optimal'],'penalty':['l1','l2']}\n",
    "grid_search = GridSearchCV(SGDRegressor(),param_grid,cv=5,return_train_score=True)\n",
    "grid_search.fit(X_train,y_train)"
   ]
  },
  {
   "cell_type": "code",
   "execution_count": null,
   "metadata": {},
   "outputs": [],
   "source": [
    "sgd_train_score = grid_search.score(X_train,y_train)\n",
    "sgd_test_score = grid_search.score(X_test,y_test)\n",
    "param = grid_search.best_params_"
   ]
  },
  {
   "cell_type": "code",
   "execution_count": null,
   "metadata": {},
   "outputs": [],
   "source": [
    "sgd_report = [['SGDRegressor',param,sgd_train_score,sgd_test_score]]\n",
    "pd.DataFrame(sgd_report,columns=Fit,index=[1])"
   ]
  },
  {
   "cell_type": "code",
   "execution_count": null,
   "metadata": {},
   "outputs": [],
   "source": [
    "### Ridge"
   ]
  },
  {
   "cell_type": "code",
   "execution_count": null,
   "metadata": {},
   "outputs": [],
   "source": [
    "from sklearn.linear_model import Ridge\n",
    "\n",
    "ridge_train_array = []\n",
    "ridge_test_array = []\n",
    "\n",
    "param_grid={'alpha':[0.01,0.1,1,10,100]}\n",
    "ridge_grid_search = GridSearchCV(Ridge(),param_grid=param_grid,cv=5,return_train_score=True)\n",
    "ridge_grid_search.fit(X_train,y_train)"
   ]
  },
  {
   "cell_type": "code",
   "execution_count": null,
   "metadata": {},
   "outputs": [],
   "source": [
    "ridge_train_score = ridge_grid_search.score(X_train,y_train)\n",
    "ridge_test_score = ridge_grid_search.score(X_test,y_test)\n",
    "ridge_param = ridge_grid_search.best_params_\n",
    "\n",
    "ridge_param_values = [dict['alpha'] for dict in ridge_grid_search.cv_results_['params']]\n",
    "plt.plot(ridge_param_values,ridge_grid_search.cv_results_['mean_train_score'])\n",
    "plt.xscale('log')\n",
    "plt.plot(ridge_param_values,ridge_grid_search.cv_results_['mean_test_score'])"
   ]
  },
  {
   "cell_type": "code",
   "execution_count": null,
   "metadata": {},
   "outputs": [],
   "source": [
    "ridge_report = [['Ridge',ridge_param,ridge_train_score,ridge_test_score]]\n",
    "pd.DataFrame(ridge_report,columns=Fit,index=[1])"
   ]
  },
  {
   "cell_type": "code",
   "execution_count": null,
   "metadata": {},
   "outputs": [],
   "source": [
    "### Lasso"
   ]
  },
  {
   "cell_type": "code",
   "execution_count": null,
   "metadata": {},
   "outputs": [],
   "source": [
    "from sklearn.linear_model import Lasso\n",
    "param_grid={'alpha':[0.01,0.1,1,10,100]}\n",
    "lasso_grid_search = GridSearchCV(Lasso(),param_grid=param_grid,cv=5,return_train_score=True)\n",
    "lasso_grid_search.fit(X_train,y_train)"
   ]
  },
  {
   "cell_type": "code",
   "execution_count": null,
   "metadata": {},
   "outputs": [],
   "source": [
    "lasso_train_score = lasso_grid_search.score(X_train,y_train)\n",
    "lasso_test_score = lasso_grid_search.score(X_test, y_test)\n",
    "lasso_param = lasso_grid_search.best_params_\n",
    "\n",
    "lasso_param_values = [dict['alpha'] for dict in lasso_grid_search.cv_results_['params']]\n",
    "plt.plot(lasso_param_values,lasso_grid_search.cv_results_['mean_train_score'])\n",
    "plt.xscale('log')\n",
    "plt.plot(lasso_param_values,lasso_grid_search.cv_results_['mean_test_score'])"
   ]
  },
  {
   "cell_type": "code",
   "execution_count": null,
   "metadata": {},
   "outputs": [],
   "source": [
    "lasso_report = [['Lasso',lasso_param,lasso_train_score,lasso_test_score]]\n",
    "pd.DataFrame(lasso_report,columns=Fit,index=[1])"
   ]
  },
  {
   "cell_type": "code",
   "execution_count": null,
   "metadata": {},
   "outputs": [],
   "source": [
    "### Polynomial Regression"
   ]
  },
  {
   "cell_type": "code",
   "execution_count": null,
   "metadata": {},
   "outputs": [],
   "source": [
    "from sklearn.preprocessing import PolynomialFeatures\n",
    "from sklearn.pipeline import Pipeline\n",
    "pipe = Pipeline([('poly',PolynomialFeatures()),('lreg',LinearRegression())])"
   ]
  },
  {
   "cell_type": "code",
   "execution_count": null,
   "metadata": {},
   "outputs": [],
   "source": [
    "param_grid = {'poly__degree':[2]}\n",
    "poly_grid_search = GridSearchCV(pipe,param_grid=param_grid,cv=5,return_train_score=True)\n",
    "poly_grid_search.fit(X_train,y_train)"
   ]
  },
  {
   "cell_type": "code",
   "execution_count": null,
   "metadata": {},
   "outputs": [],
   "source": [
    "poly_train_score = poly_grid_search.score(X_train,y_train)\n",
    "poly_test_score = poly_grid_search.score(X_test,y_test)\n",
    "poly_param = poly_grid_search.best_params_\n",
    "\n",
    "poly_report = [['Polynomial Regression',poly_param,poly_train_score,poly_test_score]]\n",
    "pd.DataFrame(poly_report,columns=Fit,index=[1])"
   ]
  },
  {
   "cell_type": "code",
   "execution_count": null,
   "metadata": {},
   "outputs": [],
   "source": [
    "### LinearSVR"
   ]
  },
  {
   "cell_type": "code",
   "execution_count": null,
   "metadata": {},
   "outputs": [],
   "source": [
    "from sklearn.svm import LinearSVR\n",
    "param_grid={'C':[0.01,0.1,1,10,100]}\n",
    "lsvr_grid_search = GridSearchCV(LinearSVR(),param_grid=param_grid,cv=5,return_train_score=True)"
   ]
  },
  {
   "cell_type": "code",
   "execution_count": null,
   "metadata": {},
   "outputs": [],
   "source": [
    "lsvr_grid_search.fit(X_train,y_train)"
   ]
  },
  {
   "cell_type": "code",
   "execution_count": null,
   "metadata": {},
   "outputs": [],
   "source": [
    "lsvr_train_score = lsvr_grid_search.score(X_train,y_train)\n",
    "lsvr_test_score = lsvr_grid_search.score(X_test,y_test)\n",
    "lsvr_param = lsvr_grid_search.best_params_\n",
    "\n",
    "lsvr_report = [['Linear SVR',lsvr_param,lsvr_train_score,lsvr_test_score]]\n",
    "pd.DataFrame(lsvr_report,columns=Fit,index=[1])"
   ]
  },
  {
   "cell_type": "code",
   "execution_count": null,
   "metadata": {},
   "outputs": [],
   "source": [
    "### RBF SVR"
   ]
  },
  {
   "cell_type": "code",
   "execution_count": null,
   "metadata": {},
   "outputs": [],
   "source": [
    "from sklearn.svm import SVR\n",
    "param_grid = {'C':[0.01,0.1,1,10,100],'gamma':[0.01,0.1,1,10,100]}\n",
    "rbfsvr_grid_search = GridSearchCV(SVR(kernel='rbf'),param_grid=param_grid,cv=5,return_train_score=True)\n",
    "rbfsvr_grid_search.fit(X_train,y_train)"
   ]
  },
  {
   "cell_type": "code",
   "execution_count": null,
   "metadata": {},
   "outputs": [],
   "source": [
    "rbfsvr_train_score = rbfsvr_grid_search.score(X_train,y_train)\n",
    "rbfsvr_test_score = rbfsvr_grid_search.score(X_test,y_test)\n",
    "rbfsvr_param = rbfsvr_grid_search.best_params_\n",
    "\n",
    "rbfsvr_report = [['RBF SVR',rbfsvr_param,rbfsvr_train_score,rbfsvr_test_score]]\n",
    "pd.DataFrame(rbfsvr_report,columns=Fit,index=[1])"
   ]
  },
  {
   "cell_type": "code",
   "execution_count": null,
   "metadata": {},
   "outputs": [],
   "source": [
    "### Polynomial SVR (Takes high computational time so not taken into consideration)"
   ]
  },
  {
   "cell_type": "code",
   "execution_count": null,
   "metadata": {},
   "outputs": [],
   "source": [
    "#from sklearn.svm import SVR\n",
    "#param_grid = {'C':[0.01,0.1,1,10,100],'gamma':[0.01,0.1,1,10,100],'degree':[2]}\n",
    "#poly_grid_search = GridSearchCV(SVR(kernel='poly'),param_grid=param_grid,cv=5,return_train_score=True)\n",
    "#poly_grid_search.fit(X_train,y_train)"
   ]
  },
  {
   "cell_type": "code",
   "execution_count": null,
   "metadata": {},
   "outputs": [],
   "source": [
    "#poly_train_score = poly_grid_search.score(X_train,y_train)\n",
    "#poly_test_score = poly_grid_search.score(X_test,y_test)\n",
    "#poly_param = poly_grid_search.best_params_\n",
    "#poly_report = [['Polynomial SVR',poly_param,poly_train_score,poly_test_score]]\n",
    "#pd.DataFrame(poly_report,columns=Fit,index=[1])"
   ]
  },
  {
   "cell_type": "code",
   "execution_count": null,
   "metadata": {},
   "outputs": [],
   "source": [
    "### Report"
   ]
  },
  {
   "cell_type": "code",
   "execution_count": null,
   "metadata": {
    "scrolled": true
   },
   "outputs": [],
   "source": [
    "pd.options.display.float_format = '{:.4f}'.format\n",
    "report = pd.DataFrame(knn_report+lreg_report+sgd_report+ridge_report+lasso_report+poly_report+lsvr_report,columns=Fit,index=range(1,8))\n",
    "report = report.sort_values(by='Test Score',ascending=False)\n",
    "report"
   ]
  },
  {
   "cell_type": "code",
   "execution_count": null,
   "metadata": {},
   "outputs": [],
   "source": [
    "plt.figure(figsize=(15,5))\n",
    "plt.plot(report.iloc[:,0],report.iloc[:,2],label='Train')\n",
    "plt.plot(report.iloc[:,0],report.iloc[:,3],label='Test')\n",
    "plt.ylim(0.8,1)\n",
    "plt.legend()"
   ]
  },
  {
   "cell_type": "code",
   "execution_count": null,
   "metadata": {},
   "outputs": [],
   "source": [
    "### Ridge provides the best test score with alpha value of 100."
   ]
  },
  {
   "cell_type": "code",
   "execution_count": null,
   "metadata": {},
   "outputs": [],
   "source": [
    "all_X = df.iloc[:,:77]\n",
    "all_y = df[77]"
   ]
  },
  {
   "cell_type": "code",
   "execution_count": null,
   "metadata": {},
   "outputs": [],
   "source": [
    "all_X_train_org, all_X_test_org, all_y_train, all_y_test = train_test_split(all_X,all_y,random_state=6)\n",
    "sc = StandardScaler()\n",
    "all_X_train = sc.fit_transform(all_X_train_org)\n",
    "all_X_test = sc.transform(all_X_test_org)"
   ]
  },
  {
   "cell_type": "code",
   "execution_count": null,
   "metadata": {},
   "outputs": [],
   "source": [
    "from sklearn.model_selection import cross_val_score\n",
    "from sklearn.model_selection import KFold\n",
    "ridge = Ridge(alpha=100)\n",
    "fold = KFold(n_splits=5)"
   ]
  },
  {
   "cell_type": "code",
   "execution_count": null,
   "metadata": {},
   "outputs": [],
   "source": [
    "train_scores = cross_val_score(ridge, all_X_train,all_y_train, cv=fold)\n",
    "test_scores = cross_val_score(ridge, all_X_test,all_y_test, cv=fold)"
   ]
  },
  {
   "cell_type": "code",
   "execution_count": null,
   "metadata": {},
   "outputs": [],
   "source": [
    "print('Cross validation train score is : {0}\\nCross validation test score is : {1}'.format(round(train_scores.mean(),5), round(test_scores.mean(),5)))"
   ]
  }
 ],
 "metadata": {
  "kernelspec": {
   "display_name": "Python 3",
   "language": "python",
   "name": "python3"
  },
  "language_info": {
   "codemirror_mode": {
    "name": "ipython",
    "version": 3
   },
   "file_extension": ".py",
   "mimetype": "text/x-python",
   "name": "python",
   "nbconvert_exporter": "python",
   "pygments_lexer": "ipython3",
   "version": "3.6.5"
  }
 },
 "nbformat": 4,
 "nbformat_minor": 2
}
